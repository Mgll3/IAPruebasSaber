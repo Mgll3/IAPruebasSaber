{
  "nbformat": 4,
  "nbformat_minor": 0,
  "metadata": {
    "colab": {
      "provenance": [],
      "gpuType": "V28"
    },
    "kernelspec": {
      "name": "python3",
      "display_name": "Python 3"
    },
    "language_info": {
      "name": "python"
    },
    "accelerator": "TPU"
  },
  "cells": [
    {
      "cell_type": "code",
      "execution_count": 29,
      "metadata": {
        "id": "ScsNpM1hO08l",
        "colab": {
          "base_uri": "https://localhost:8080/"
        },
        "outputId": "e99b0041-22df-4428-865d-f6e4d468f6ab"
      },
      "outputs": [
        {
          "output_type": "stream",
          "name": "stdout",
          "text": [
            "Requirement already satisfied: catboost in /usr/local/lib/python3.10/dist-packages (1.2.7)\n",
            "Requirement already satisfied: graphviz in /usr/local/lib/python3.10/dist-packages (from catboost) (0.20.3)\n",
            "Requirement already satisfied: matplotlib in /usr/local/lib/python3.10/dist-packages (from catboost) (3.7.1)\n",
            "Requirement already satisfied: numpy<2.0,>=1.16.0 in /usr/local/lib/python3.10/dist-packages (from catboost) (1.26.4)\n",
            "Requirement already satisfied: pandas>=0.24 in /usr/local/lib/python3.10/dist-packages (from catboost) (2.2.2)\n",
            "Requirement already satisfied: scipy in /usr/local/lib/python3.10/dist-packages (from catboost) (1.13.1)\n",
            "Requirement already satisfied: plotly in /usr/local/lib/python3.10/dist-packages (from catboost) (5.24.1)\n",
            "Requirement already satisfied: six in /usr/local/lib/python3.10/dist-packages (from catboost) (1.16.0)\n",
            "Requirement already satisfied: python-dateutil>=2.8.2 in /usr/local/lib/python3.10/dist-packages (from pandas>=0.24->catboost) (2.9.0.post0)\n",
            "Requirement already satisfied: pytz>=2020.1 in /usr/local/lib/python3.10/dist-packages (from pandas>=0.24->catboost) (2024.2)\n",
            "Requirement already satisfied: tzdata>=2022.7 in /usr/local/lib/python3.10/dist-packages (from pandas>=0.24->catboost) (2024.2)\n",
            "Requirement already satisfied: contourpy>=1.0.1 in /usr/local/lib/python3.10/dist-packages (from matplotlib->catboost) (1.3.0)\n",
            "Requirement already satisfied: cycler>=0.10 in /usr/local/lib/python3.10/dist-packages (from matplotlib->catboost) (0.12.1)\n",
            "Requirement already satisfied: fonttools>=4.22.0 in /usr/local/lib/python3.10/dist-packages (from matplotlib->catboost) (4.54.1)\n",
            "Requirement already satisfied: kiwisolver>=1.0.1 in /usr/local/lib/python3.10/dist-packages (from matplotlib->catboost) (1.4.7)\n",
            "Requirement already satisfied: packaging>=20.0 in /usr/local/lib/python3.10/dist-packages (from matplotlib->catboost) (24.1)\n",
            "Requirement already satisfied: pillow>=6.2.0 in /usr/local/lib/python3.10/dist-packages (from matplotlib->catboost) (11.0.0)\n",
            "Requirement already satisfied: pyparsing>=2.3.1 in /usr/local/lib/python3.10/dist-packages (from matplotlib->catboost) (3.2.0)\n",
            "Requirement already satisfied: tenacity>=6.2.0 in /usr/local/lib/python3.10/dist-packages (from plotly->catboost) (9.0.0)\n"
          ]
        }
      ],
      "source": [
        "!pip install catboost"
      ]
    },
    {
      "cell_type": "code",
      "source": [
        "import numpy as np\n",
        "import pandas as pd\n",
        "import matplotlib.pyplot as plt\n",
        "from catboost import CatBoostClassifier, Pool\n",
        "from sklearn.metrics import accuracy_score, classification_report\n",
        "from sklearn.model_selection import KFold,cross_val_score\n",
        "from sklearn.model_selection import GridSearchCV"
      ],
      "metadata": {
        "id": "eq_PoMefo5k0"
      },
      "execution_count": 30,
      "outputs": []
    },
    {
      "cell_type": "code",
      "source": [
        "# Importación de archivos publicos en mega\n",
        "\n",
        "!apt-get install megatools\n",
        "\n",
        "!megadl 'https://mega.nz/file/IYR13BIL#xJGXa9RVya2lCZa97LnMcuyc-DJ8eSg_QrL9LwAPeGc'\n",
        "!megadl 'https://mega.nz/file/sBYlFT5S#dyje3tq74m--QAOs9B60zR-f_9yBnUT54lYfjNZ2Rus'\n",
        "\n",
        "# Lectura archivos\n",
        "df = pd.read_csv('train.csv')\n",
        "df2 = pd.read_csv('test.csv')"
      ],
      "metadata": {
        "colab": {
          "base_uri": "https://localhost:8080/"
        },
        "id": "97K72skBPoww",
        "outputId": "bf69a82a-3667-41f8-de47-8bece4540f76"
      },
      "execution_count": 31,
      "outputs": [
        {
          "output_type": "stream",
          "name": "stdout",
          "text": [
            "Reading package lists... Done\n",
            "Building dependency tree... Done\n",
            "Reading state information... Done\n",
            "megatools is already the newest version (1.10.3-1build1).\n",
            "0 upgraded, 0 newly installed, 0 to remove and 0 not upgraded.\n",
            "\u001b[0K\n",
            "ERROR: Download failed for 'https://mega.nz/file/IYR13BIL#xJGXa9RVya2lCZa97LnMcuyc-DJ8eSg_QrL9LwAPeGc': Can't rename donwloaded temporary file /content/.megatmp.IYR13BIL to /content/train.csv (downloaded data are good!): Error moving file /content/.megatmp.IYR13BIL: File exists\n",
            "\u001b[0K\n",
            "ERROR: Download failed for 'https://mega.nz/file/sBYlFT5S#dyje3tq74m--QAOs9B60zR-f_9yBnUT54lYfjNZ2Rus': Can't rename donwloaded temporary file /content/.megatmp.sBYlFT5S to /content/test.csv (downloaded data are good!): Error moving file /content/.megatmp.sBYlFT5S: File exists\n"
          ]
        }
      ]
    },
    {
      "cell_type": "markdown",
      "source": [
        "#Preprocesado - Rellenar datos nulos"
      ],
      "metadata": {
        "id": "P_iBAFwFRAs_"
      }
    },
    {
      "cell_type": "code",
      "source": [
        "df.head(5)"
      ],
      "metadata": {
        "colab": {
          "base_uri": "https://localhost:8080/",
          "height": 313
        },
        "id": "Zx429dmqx9rN",
        "outputId": "ac35c6a3-b5d9-44a1-9e98-597a53e61750"
      },
      "execution_count": 32,
      "outputs": [
        {
          "output_type": "execute_result",
          "data": {
            "text/plain": [
              "       ID  PERIODO         ESTU_PRGM_ACADEMICO ESTU_PRGM_DEPARTAMENTO  \\\n",
              "0  904256    20212                  ENFERMERIA                 BOGOTÁ   \n",
              "1  645256    20212                     DERECHO              ATLANTICO   \n",
              "2  308367    20203       MERCADEO Y PUBLICIDAD                 BOGOTÁ   \n",
              "3  470353    20195  ADMINISTRACION DE EMPRESAS              SANTANDER   \n",
              "4  989032    20212                  PSICOLOGIA              ANTIOQUIA   \n",
              "\n",
              "             ESTU_VALORMATRICULAUNIVERSIDAD ESTU_HORASSEMANATRABAJA  \\\n",
              "0  Entre 5.5 millones y menos de 7 millones       Menos de 10 horas   \n",
              "1  Entre 2.5 millones y menos de 4 millones                       0   \n",
              "2  Entre 2.5 millones y menos de 4 millones         Más de 30 horas   \n",
              "3  Entre 4 millones y menos de 5.5 millones                       0   \n",
              "4  Entre 2.5 millones y menos de 4 millones     Entre 21 y 30 horas   \n",
              "\n",
              "  FAMI_ESTRATOVIVIENDA FAMI_TIENEINTERNET                 FAMI_EDUCACIONPADRE  \\\n",
              "0            Estrato 3                 Si    Técnica o tecnológica incompleta   \n",
              "1            Estrato 3                 No      Técnica o tecnológica completa   \n",
              "2            Estrato 3                 Si  Secundaria (Bachillerato) completa   \n",
              "3            Estrato 4                 Si                             No sabe   \n",
              "4            Estrato 3                 Si                   Primaria completa   \n",
              "\n",
              "                  FAMI_EDUCACIONMADRE ESTU_PAGOMATRICULAPROPIO  \\\n",
              "0                           Postgrado                       No   \n",
              "1    Técnica o tecnológica incompleta                       No   \n",
              "2  Secundaria (Bachillerato) completa                       No   \n",
              "3  Secundaria (Bachillerato) completa                       No   \n",
              "4                   Primaria completa                       No   \n",
              "\n",
              "  RENDIMIENTO_GLOBAL  \n",
              "0         medio-alto  \n",
              "1               bajo  \n",
              "2               bajo  \n",
              "3               alto  \n",
              "4         medio-bajo  "
            ],
            "text/html": [
              "\n",
              "  <div id=\"df-bc357eea-03a7-4435-a06f-51e63956f1d4\" class=\"colab-df-container\">\n",
              "    <div>\n",
              "<style scoped>\n",
              "    .dataframe tbody tr th:only-of-type {\n",
              "        vertical-align: middle;\n",
              "    }\n",
              "\n",
              "    .dataframe tbody tr th {\n",
              "        vertical-align: top;\n",
              "    }\n",
              "\n",
              "    .dataframe thead th {\n",
              "        text-align: right;\n",
              "    }\n",
              "</style>\n",
              "<table border=\"1\" class=\"dataframe\">\n",
              "  <thead>\n",
              "    <tr style=\"text-align: right;\">\n",
              "      <th></th>\n",
              "      <th>ID</th>\n",
              "      <th>PERIODO</th>\n",
              "      <th>ESTU_PRGM_ACADEMICO</th>\n",
              "      <th>ESTU_PRGM_DEPARTAMENTO</th>\n",
              "      <th>ESTU_VALORMATRICULAUNIVERSIDAD</th>\n",
              "      <th>ESTU_HORASSEMANATRABAJA</th>\n",
              "      <th>FAMI_ESTRATOVIVIENDA</th>\n",
              "      <th>FAMI_TIENEINTERNET</th>\n",
              "      <th>FAMI_EDUCACIONPADRE</th>\n",
              "      <th>FAMI_EDUCACIONMADRE</th>\n",
              "      <th>ESTU_PAGOMATRICULAPROPIO</th>\n",
              "      <th>RENDIMIENTO_GLOBAL</th>\n",
              "    </tr>\n",
              "  </thead>\n",
              "  <tbody>\n",
              "    <tr>\n",
              "      <th>0</th>\n",
              "      <td>904256</td>\n",
              "      <td>20212</td>\n",
              "      <td>ENFERMERIA</td>\n",
              "      <td>BOGOTÁ</td>\n",
              "      <td>Entre 5.5 millones y menos de 7 millones</td>\n",
              "      <td>Menos de 10 horas</td>\n",
              "      <td>Estrato 3</td>\n",
              "      <td>Si</td>\n",
              "      <td>Técnica o tecnológica incompleta</td>\n",
              "      <td>Postgrado</td>\n",
              "      <td>No</td>\n",
              "      <td>medio-alto</td>\n",
              "    </tr>\n",
              "    <tr>\n",
              "      <th>1</th>\n",
              "      <td>645256</td>\n",
              "      <td>20212</td>\n",
              "      <td>DERECHO</td>\n",
              "      <td>ATLANTICO</td>\n",
              "      <td>Entre 2.5 millones y menos de 4 millones</td>\n",
              "      <td>0</td>\n",
              "      <td>Estrato 3</td>\n",
              "      <td>No</td>\n",
              "      <td>Técnica o tecnológica completa</td>\n",
              "      <td>Técnica o tecnológica incompleta</td>\n",
              "      <td>No</td>\n",
              "      <td>bajo</td>\n",
              "    </tr>\n",
              "    <tr>\n",
              "      <th>2</th>\n",
              "      <td>308367</td>\n",
              "      <td>20203</td>\n",
              "      <td>MERCADEO Y PUBLICIDAD</td>\n",
              "      <td>BOGOTÁ</td>\n",
              "      <td>Entre 2.5 millones y menos de 4 millones</td>\n",
              "      <td>Más de 30 horas</td>\n",
              "      <td>Estrato 3</td>\n",
              "      <td>Si</td>\n",
              "      <td>Secundaria (Bachillerato) completa</td>\n",
              "      <td>Secundaria (Bachillerato) completa</td>\n",
              "      <td>No</td>\n",
              "      <td>bajo</td>\n",
              "    </tr>\n",
              "    <tr>\n",
              "      <th>3</th>\n",
              "      <td>470353</td>\n",
              "      <td>20195</td>\n",
              "      <td>ADMINISTRACION DE EMPRESAS</td>\n",
              "      <td>SANTANDER</td>\n",
              "      <td>Entre 4 millones y menos de 5.5 millones</td>\n",
              "      <td>0</td>\n",
              "      <td>Estrato 4</td>\n",
              "      <td>Si</td>\n",
              "      <td>No sabe</td>\n",
              "      <td>Secundaria (Bachillerato) completa</td>\n",
              "      <td>No</td>\n",
              "      <td>alto</td>\n",
              "    </tr>\n",
              "    <tr>\n",
              "      <th>4</th>\n",
              "      <td>989032</td>\n",
              "      <td>20212</td>\n",
              "      <td>PSICOLOGIA</td>\n",
              "      <td>ANTIOQUIA</td>\n",
              "      <td>Entre 2.5 millones y menos de 4 millones</td>\n",
              "      <td>Entre 21 y 30 horas</td>\n",
              "      <td>Estrato 3</td>\n",
              "      <td>Si</td>\n",
              "      <td>Primaria completa</td>\n",
              "      <td>Primaria completa</td>\n",
              "      <td>No</td>\n",
              "      <td>medio-bajo</td>\n",
              "    </tr>\n",
              "  </tbody>\n",
              "</table>\n",
              "</div>\n",
              "    <div class=\"colab-df-buttons\">\n",
              "\n",
              "  <div class=\"colab-df-container\">\n",
              "    <button class=\"colab-df-convert\" onclick=\"convertToInteractive('df-bc357eea-03a7-4435-a06f-51e63956f1d4')\"\n",
              "            title=\"Convert this dataframe to an interactive table.\"\n",
              "            style=\"display:none;\">\n",
              "\n",
              "  <svg xmlns=\"http://www.w3.org/2000/svg\" height=\"24px\" viewBox=\"0 -960 960 960\">\n",
              "    <path d=\"M120-120v-720h720v720H120Zm60-500h600v-160H180v160Zm220 220h160v-160H400v160Zm0 220h160v-160H400v160ZM180-400h160v-160H180v160Zm440 0h160v-160H620v160ZM180-180h160v-160H180v160Zm440 0h160v-160H620v160Z\"/>\n",
              "  </svg>\n",
              "    </button>\n",
              "\n",
              "  <style>\n",
              "    .colab-df-container {\n",
              "      display:flex;\n",
              "      gap: 12px;\n",
              "    }\n",
              "\n",
              "    .colab-df-convert {\n",
              "      background-color: #E8F0FE;\n",
              "      border: none;\n",
              "      border-radius: 50%;\n",
              "      cursor: pointer;\n",
              "      display: none;\n",
              "      fill: #1967D2;\n",
              "      height: 32px;\n",
              "      padding: 0 0 0 0;\n",
              "      width: 32px;\n",
              "    }\n",
              "\n",
              "    .colab-df-convert:hover {\n",
              "      background-color: #E2EBFA;\n",
              "      box-shadow: 0px 1px 2px rgba(60, 64, 67, 0.3), 0px 1px 3px 1px rgba(60, 64, 67, 0.15);\n",
              "      fill: #174EA6;\n",
              "    }\n",
              "\n",
              "    .colab-df-buttons div {\n",
              "      margin-bottom: 4px;\n",
              "    }\n",
              "\n",
              "    [theme=dark] .colab-df-convert {\n",
              "      background-color: #3B4455;\n",
              "      fill: #D2E3FC;\n",
              "    }\n",
              "\n",
              "    [theme=dark] .colab-df-convert:hover {\n",
              "      background-color: #434B5C;\n",
              "      box-shadow: 0px 1px 3px 1px rgba(0, 0, 0, 0.15);\n",
              "      filter: drop-shadow(0px 1px 2px rgba(0, 0, 0, 0.3));\n",
              "      fill: #FFFFFF;\n",
              "    }\n",
              "  </style>\n",
              "\n",
              "    <script>\n",
              "      const buttonEl =\n",
              "        document.querySelector('#df-bc357eea-03a7-4435-a06f-51e63956f1d4 button.colab-df-convert');\n",
              "      buttonEl.style.display =\n",
              "        google.colab.kernel.accessAllowed ? 'block' : 'none';\n",
              "\n",
              "      async function convertToInteractive(key) {\n",
              "        const element = document.querySelector('#df-bc357eea-03a7-4435-a06f-51e63956f1d4');\n",
              "        const dataTable =\n",
              "          await google.colab.kernel.invokeFunction('convertToInteractive',\n",
              "                                                    [key], {});\n",
              "        if (!dataTable) return;\n",
              "\n",
              "        const docLinkHtml = 'Like what you see? Visit the ' +\n",
              "          '<a target=\"_blank\" href=https://colab.research.google.com/notebooks/data_table.ipynb>data table notebook</a>'\n",
              "          + ' to learn more about interactive tables.';\n",
              "        element.innerHTML = '';\n",
              "        dataTable['output_type'] = 'display_data';\n",
              "        await google.colab.output.renderOutput(dataTable, element);\n",
              "        const docLink = document.createElement('div');\n",
              "        docLink.innerHTML = docLinkHtml;\n",
              "        element.appendChild(docLink);\n",
              "      }\n",
              "    </script>\n",
              "  </div>\n",
              "\n",
              "\n",
              "<div id=\"df-dc7e2231-ebbf-4bf7-b03e-440d5b403c2e\">\n",
              "  <button class=\"colab-df-quickchart\" onclick=\"quickchart('df-dc7e2231-ebbf-4bf7-b03e-440d5b403c2e')\"\n",
              "            title=\"Suggest charts\"\n",
              "            style=\"display:none;\">\n",
              "\n",
              "<svg xmlns=\"http://www.w3.org/2000/svg\" height=\"24px\"viewBox=\"0 0 24 24\"\n",
              "     width=\"24px\">\n",
              "    <g>\n",
              "        <path d=\"M19 3H5c-1.1 0-2 .9-2 2v14c0 1.1.9 2 2 2h14c1.1 0 2-.9 2-2V5c0-1.1-.9-2-2-2zM9 17H7v-7h2v7zm4 0h-2V7h2v10zm4 0h-2v-4h2v4z\"/>\n",
              "    </g>\n",
              "</svg>\n",
              "  </button>\n",
              "\n",
              "<style>\n",
              "  .colab-df-quickchart {\n",
              "      --bg-color: #E8F0FE;\n",
              "      --fill-color: #1967D2;\n",
              "      --hover-bg-color: #E2EBFA;\n",
              "      --hover-fill-color: #174EA6;\n",
              "      --disabled-fill-color: #AAA;\n",
              "      --disabled-bg-color: #DDD;\n",
              "  }\n",
              "\n",
              "  [theme=dark] .colab-df-quickchart {\n",
              "      --bg-color: #3B4455;\n",
              "      --fill-color: #D2E3FC;\n",
              "      --hover-bg-color: #434B5C;\n",
              "      --hover-fill-color: #FFFFFF;\n",
              "      --disabled-bg-color: #3B4455;\n",
              "      --disabled-fill-color: #666;\n",
              "  }\n",
              "\n",
              "  .colab-df-quickchart {\n",
              "    background-color: var(--bg-color);\n",
              "    border: none;\n",
              "    border-radius: 50%;\n",
              "    cursor: pointer;\n",
              "    display: none;\n",
              "    fill: var(--fill-color);\n",
              "    height: 32px;\n",
              "    padding: 0;\n",
              "    width: 32px;\n",
              "  }\n",
              "\n",
              "  .colab-df-quickchart:hover {\n",
              "    background-color: var(--hover-bg-color);\n",
              "    box-shadow: 0 1px 2px rgba(60, 64, 67, 0.3), 0 1px 3px 1px rgba(60, 64, 67, 0.15);\n",
              "    fill: var(--button-hover-fill-color);\n",
              "  }\n",
              "\n",
              "  .colab-df-quickchart-complete:disabled,\n",
              "  .colab-df-quickchart-complete:disabled:hover {\n",
              "    background-color: var(--disabled-bg-color);\n",
              "    fill: var(--disabled-fill-color);\n",
              "    box-shadow: none;\n",
              "  }\n",
              "\n",
              "  .colab-df-spinner {\n",
              "    border: 2px solid var(--fill-color);\n",
              "    border-color: transparent;\n",
              "    border-bottom-color: var(--fill-color);\n",
              "    animation:\n",
              "      spin 1s steps(1) infinite;\n",
              "  }\n",
              "\n",
              "  @keyframes spin {\n",
              "    0% {\n",
              "      border-color: transparent;\n",
              "      border-bottom-color: var(--fill-color);\n",
              "      border-left-color: var(--fill-color);\n",
              "    }\n",
              "    20% {\n",
              "      border-color: transparent;\n",
              "      border-left-color: var(--fill-color);\n",
              "      border-top-color: var(--fill-color);\n",
              "    }\n",
              "    30% {\n",
              "      border-color: transparent;\n",
              "      border-left-color: var(--fill-color);\n",
              "      border-top-color: var(--fill-color);\n",
              "      border-right-color: var(--fill-color);\n",
              "    }\n",
              "    40% {\n",
              "      border-color: transparent;\n",
              "      border-right-color: var(--fill-color);\n",
              "      border-top-color: var(--fill-color);\n",
              "    }\n",
              "    60% {\n",
              "      border-color: transparent;\n",
              "      border-right-color: var(--fill-color);\n",
              "    }\n",
              "    80% {\n",
              "      border-color: transparent;\n",
              "      border-right-color: var(--fill-color);\n",
              "      border-bottom-color: var(--fill-color);\n",
              "    }\n",
              "    90% {\n",
              "      border-color: transparent;\n",
              "      border-bottom-color: var(--fill-color);\n",
              "    }\n",
              "  }\n",
              "</style>\n",
              "\n",
              "  <script>\n",
              "    async function quickchart(key) {\n",
              "      const quickchartButtonEl =\n",
              "        document.querySelector('#' + key + ' button');\n",
              "      quickchartButtonEl.disabled = true;  // To prevent multiple clicks.\n",
              "      quickchartButtonEl.classList.add('colab-df-spinner');\n",
              "      try {\n",
              "        const charts = await google.colab.kernel.invokeFunction(\n",
              "            'suggestCharts', [key], {});\n",
              "      } catch (error) {\n",
              "        console.error('Error during call to suggestCharts:', error);\n",
              "      }\n",
              "      quickchartButtonEl.classList.remove('colab-df-spinner');\n",
              "      quickchartButtonEl.classList.add('colab-df-quickchart-complete');\n",
              "    }\n",
              "    (() => {\n",
              "      let quickchartButtonEl =\n",
              "        document.querySelector('#df-dc7e2231-ebbf-4bf7-b03e-440d5b403c2e button');\n",
              "      quickchartButtonEl.style.display =\n",
              "        google.colab.kernel.accessAllowed ? 'block' : 'none';\n",
              "    })();\n",
              "  </script>\n",
              "</div>\n",
              "\n",
              "    </div>\n",
              "  </div>\n"
            ],
            "application/vnd.google.colaboratory.intrinsic+json": {
              "type": "dataframe",
              "variable_name": "df"
            }
          },
          "metadata": {},
          "execution_count": 32
        }
      ]
    },
    {
      "cell_type": "code",
      "source": [
        "print(df.isnull().sum())"
      ],
      "metadata": {
        "colab": {
          "base_uri": "https://localhost:8080/"
        },
        "id": "XH_11BNaakEo",
        "outputId": "0622c63b-8e56-4fe9-b6c4-c9d69d58bb23"
      },
      "execution_count": 33,
      "outputs": [
        {
          "output_type": "stream",
          "name": "stdout",
          "text": [
            "ID                                    0\n",
            "PERIODO                               0\n",
            "ESTU_PRGM_ACADEMICO                   0\n",
            "ESTU_PRGM_DEPARTAMENTO                0\n",
            "ESTU_VALORMATRICULAUNIVERSIDAD     6287\n",
            "ESTU_HORASSEMANATRABAJA           30857\n",
            "FAMI_ESTRATOVIVIENDA              32137\n",
            "FAMI_TIENEINTERNET                26629\n",
            "FAMI_EDUCACIONPADRE               23178\n",
            "FAMI_EDUCACIONMADRE               23664\n",
            "ESTU_PAGOMATRICULAPROPIO           6498\n",
            "RENDIMIENTO_GLOBAL                    0\n",
            "dtype: int64\n"
          ]
        }
      ]
    },
    {
      "cell_type": "code",
      "source": [
        "print(df['ESTU_VALORMATRICULAUNIVERSIDAD'].value_counts())"
      ],
      "metadata": {
        "colab": {
          "base_uri": "https://localhost:8080/"
        },
        "id": "v_nt1XTci_V6",
        "outputId": "7aa0e337-90ec-488b-b674-3bc925de1197"
      },
      "execution_count": 34,
      "outputs": [
        {
          "output_type": "stream",
          "name": "stdout",
          "text": [
            "ESTU_VALORMATRICULAUNIVERSIDAD\n",
            "Entre 1 millón y menos de 2.5 millones      204048\n",
            "Entre 2.5 millones y menos de 4 millones    127430\n",
            "Menos de 500 mil                             80263\n",
            "Entre 500 mil y menos de 1 millón            78704\n",
            "Entre 4 millones y menos de 5.5 millones     69736\n",
            "Más de 7 millones                            68014\n",
            "Entre 5.5 millones y menos de 7 millones     38490\n",
            "No pagó matrícula                            19528\n",
            "Name: count, dtype: int64\n"
          ]
        }
      ]
    },
    {
      "cell_type": "code",
      "source": [
        "# Cambio valores nulos en matricula a No pago matricula\n",
        "df['ESTU_VALORMATRICULAUNIVERSIDAD'] = df['ESTU_VALORMATRICULAUNIVERSIDAD'].fillna(\"No pagó matrícula\")\n",
        "df2['ESTU_VALORMATRICULAUNIVERSIDAD'] = df2['ESTU_VALORMATRICULAUNIVERSIDAD'].fillna(\"No pagó matrícula\")"
      ],
      "metadata": {
        "id": "NDBoh3VuWqVb"
      },
      "execution_count": 35,
      "outputs": []
    },
    {
      "cell_type": "code",
      "source": [
        "print(df['ESTU_HORASSEMANATRABAJA'].value_counts())"
      ],
      "metadata": {
        "colab": {
          "base_uri": "https://localhost:8080/"
        },
        "id": "zdUwPTbLXg4r",
        "outputId": "488c8b36-d1ce-4fc8-ecdb-6536a1a3f796"
      },
      "execution_count": 36,
      "outputs": [
        {
          "output_type": "stream",
          "name": "stdout",
          "text": [
            "ESTU_HORASSEMANATRABAJA\n",
            "Más de 30 horas        249352\n",
            "0                      116550\n",
            "Entre 11 y 20 horas    115857\n",
            "Entre 21 y 30 horas     92693\n",
            "Menos de 10 horas       87191\n",
            "Name: count, dtype: int64\n"
          ]
        }
      ]
    },
    {
      "cell_type": "code",
      "source": [
        "# Cambio valores nulos a el más común Más de 30 horas\n",
        "df['ESTU_HORASSEMANATRABAJA'] = df['ESTU_HORASSEMANATRABAJA'].fillna('Más de 30 horas')\n",
        "df2['ESTU_HORASSEMANATRABAJA'] = df2['ESTU_HORASSEMANATRABAJA'].fillna('Más de 30 horas')"
      ],
      "metadata": {
        "id": "wjbDSk7DZGlL"
      },
      "execution_count": 37,
      "outputs": []
    },
    {
      "cell_type": "code",
      "source": [
        "print(df['FAMI_ESTRATOVIVIENDA'].value_counts())"
      ],
      "metadata": {
        "colab": {
          "base_uri": "https://localhost:8080/"
        },
        "id": "wV37pQbOjHG8",
        "outputId": "de6b9180-58ca-4546-f1ea-35e53d82aa0b"
      },
      "execution_count": 38,
      "outputs": [
        {
          "output_type": "stream",
          "name": "stdout",
          "text": [
            "FAMI_ESTRATOVIVIENDA\n",
            "Estrato 2      232671\n",
            "Estrato 3      210685\n",
            "Estrato 1      111991\n",
            "Estrato 4       65514\n",
            "Estrato 5       23608\n",
            "Estrato 6       12605\n",
            "Sin Estrato      3289\n",
            "Name: count, dtype: int64\n"
          ]
        }
      ]
    },
    {
      "cell_type": "code",
      "source": [
        "# Cambio valores nulos a el más común Estrato 2\n",
        "df['FAMI_ESTRATOVIVIENDA'] = df['FAMI_ESTRATOVIVIENDA'].fillna('Estrato 2')\n",
        "df2['FAMI_ESTRATOVIVIENDA'] = df2['FAMI_ESTRATOVIVIENDA'].fillna('Estrato 2')"
      ],
      "metadata": {
        "id": "JGgnOT6VjlUr"
      },
      "execution_count": 39,
      "outputs": []
    },
    {
      "cell_type": "code",
      "source": [
        "print(df['FAMI_TIENEINTERNET'].value_counts())"
      ],
      "metadata": {
        "colab": {
          "base_uri": "https://localhost:8080/"
        },
        "id": "QegRdvmujwoA",
        "outputId": "78d69300-e659-49d8-ce1f-5c8d4f88b8b7"
      },
      "execution_count": 40,
      "outputs": [
        {
          "output_type": "stream",
          "name": "stdout",
          "text": [
            "FAMI_TIENEINTERNET\n",
            "Si    592514\n",
            "No     73357\n",
            "Name: count, dtype: int64\n"
          ]
        }
      ]
    },
    {
      "cell_type": "code",
      "source": [
        "# Cambio valores nulos a el más común Si\n",
        "df['FAMI_TIENEINTERNET'] = df['FAMI_TIENEINTERNET'].fillna('Si')\n",
        "df2['FAMI_TIENEINTERNET'] = df2['FAMI_TIENEINTERNET'].fillna('Si')"
      ],
      "metadata": {
        "id": "qvuEqJVyjzmD"
      },
      "execution_count": 41,
      "outputs": []
    },
    {
      "cell_type": "code",
      "source": [
        "print(df['FAMI_EDUCACIONPADRE'].value_counts())"
      ],
      "metadata": {
        "colab": {
          "base_uri": "https://localhost:8080/"
        },
        "id": "ipvHLYT7kBv0",
        "outputId": "301904bc-0bcc-4232-95a3-286adb88d387"
      },
      "execution_count": 42,
      "outputs": [
        {
          "output_type": "stream",
          "name": "stdout",
          "text": [
            "FAMI_EDUCACIONPADRE\n",
            "Secundaria (Bachillerato) completa      128289\n",
            "Primaria incompleta                     125675\n",
            "Educación profesional completa           83117\n",
            "Secundaria (Bachillerato) incompleta     71654\n",
            "Técnica o tecnológica completa           62995\n",
            "Primaria completa                        55958\n",
            "Postgrado                                44169\n",
            "Educación profesional incompleta         27084\n",
            "Técnica o tecnológica incompleta         22552\n",
            "Ninguno                                  22008\n",
            "No sabe                                  16592\n",
            "No Aplica                                 9229\n",
            "Name: count, dtype: int64\n"
          ]
        }
      ]
    },
    {
      "cell_type": "code",
      "source": [
        "# Cambio valores nulos a no aplica\n",
        "df['FAMI_EDUCACIONPADRE'] = df['FAMI_EDUCACIONPADRE'].fillna('No Aplica')\n",
        "df2['FAMI_EDUCACIONPADRE'] = df2['FAMI_EDUCACIONPADRE'].fillna('No Aplica')"
      ],
      "metadata": {
        "id": "-FNnjPiYkZD6"
      },
      "execution_count": 43,
      "outputs": []
    },
    {
      "cell_type": "code",
      "source": [
        "print(df['FAMI_EDUCACIONMADRE'].value_counts())"
      ],
      "metadata": {
        "colab": {
          "base_uri": "https://localhost:8080/"
        },
        "id": "7Ji88ns9kkMt",
        "outputId": "ec49f3b7-c584-4c15-d0c3-3bd2452c1889"
      },
      "execution_count": 44,
      "outputs": [
        {
          "output_type": "stream",
          "name": "stdout",
          "text": [
            "FAMI_EDUCACIONMADRE\n",
            "Secundaria (Bachillerato) completa      141744\n",
            "Primaria incompleta                      99420\n",
            "Técnica o tecnológica completa           89542\n",
            "Educación profesional completa           85326\n",
            "Secundaria (Bachillerato) incompleta     81012\n",
            "Primaria completa                        56125\n",
            "Postgrado                                46246\n",
            "Técnica o tecnológica incompleta         27533\n",
            "Educación profesional incompleta         22470\n",
            "Ninguno                                  14483\n",
            "No sabe                                   3017\n",
            "No Aplica                                 1918\n",
            "Name: count, dtype: int64\n"
          ]
        }
      ]
    },
    {
      "cell_type": "code",
      "source": [
        "# Cambio valores nulos a no aplica\n",
        "df['FAMI_EDUCACIONMADRE'] = df['FAMI_EDUCACIONMADRE'].fillna('No Aplica')\n",
        "df2['FAMI_EDUCACIONMADRE'] = df2['FAMI_EDUCACIONMADRE'].fillna('No Aplica')"
      ],
      "metadata": {
        "id": "lyaR0sPVkpv6"
      },
      "execution_count": 45,
      "outputs": []
    },
    {
      "cell_type": "code",
      "source": [
        "print(df['ESTU_PAGOMATRICULAPROPIO'].value_counts())"
      ],
      "metadata": {
        "colab": {
          "base_uri": "https://localhost:8080/"
        },
        "id": "DQ8sDBd8kzYl",
        "outputId": "cb264b16-9c45-4eb9-8b24-0c67ddd375e8"
      },
      "execution_count": 46,
      "outputs": [
        {
          "output_type": "stream",
          "name": "stdout",
          "text": [
            "ESTU_PAGOMATRICULAPROPIO\n",
            "No    382201\n",
            "Si    303801\n",
            "Name: count, dtype: int64\n"
          ]
        }
      ]
    },
    {
      "cell_type": "code",
      "source": [
        "# Cambio valores nulos a el más común No\n",
        "df['ESTU_PAGOMATRICULAPROPIO'] = df['ESTU_PAGOMATRICULAPROPIO'].fillna('No')\n",
        "df2['ESTU_PAGOMATRICULAPROPIO'] = df2['ESTU_PAGOMATRICULAPROPIO'].fillna('No')"
      ],
      "metadata": {
        "id": "A_obiqZzk2Ed"
      },
      "execution_count": 47,
      "outputs": []
    },
    {
      "cell_type": "code",
      "source": [
        "print(df.isnull().sum())"
      ],
      "metadata": {
        "colab": {
          "base_uri": "https://localhost:8080/"
        },
        "id": "RRUny5wqj_ii",
        "outputId": "1a622fba-f7f3-4307-e9a4-844e69dc8e5a"
      },
      "execution_count": 48,
      "outputs": [
        {
          "output_type": "stream",
          "name": "stdout",
          "text": [
            "ID                                0\n",
            "PERIODO                           0\n",
            "ESTU_PRGM_ACADEMICO               0\n",
            "ESTU_PRGM_DEPARTAMENTO            0\n",
            "ESTU_VALORMATRICULAUNIVERSIDAD    0\n",
            "ESTU_HORASSEMANATRABAJA           0\n",
            "FAMI_ESTRATOVIVIENDA              0\n",
            "FAMI_TIENEINTERNET                0\n",
            "FAMI_EDUCACIONPADRE               0\n",
            "FAMI_EDUCACIONMADRE               0\n",
            "ESTU_PAGOMATRICULAPROPIO          0\n",
            "RENDIMIENTO_GLOBAL                0\n",
            "dtype: int64\n"
          ]
        }
      ]
    },
    {
      "cell_type": "code",
      "source": [
        "df2.reset_index(drop=True, inplace=True)\n",
        "df2.drop(columns=['Unnamed: 0'], inplace=True)"
      ],
      "metadata": {
        "id": "vhYCuroHmGq_"
      },
      "execution_count": 49,
      "outputs": []
    },
    {
      "cell_type": "code",
      "source": [
        "print(df2.isnull().sum())"
      ],
      "metadata": {
        "colab": {
          "base_uri": "https://localhost:8080/"
        },
        "id": "C5cZMa1CxpyY",
        "outputId": "3db43fd3-b116-461a-caed-81e7b2f3c6c5"
      },
      "execution_count": 50,
      "outputs": [
        {
          "output_type": "stream",
          "name": "stdout",
          "text": [
            "ID                                0\n",
            "PERIODO                           0\n",
            "ESTU_PRGM_ACADEMICO               0\n",
            "ESTU_PRGM_DEPARTAMENTO            0\n",
            "ESTU_VALORMATRICULAUNIVERSIDAD    0\n",
            "ESTU_HORASSEMANATRABAJA           0\n",
            "FAMI_ESTRATOVIVIENDA              0\n",
            "FAMI_TIENEINTERNET                0\n",
            "FAMI_EDUCACIONPADRE               0\n",
            "FAMI_EDUCACIONMADRE               0\n",
            "ESTU_PAGOMATRICULAPROPIO          0\n",
            "dtype: int64\n"
          ]
        }
      ]
    },
    {
      "cell_type": "code",
      "source": [
        "df2.head(15)"
      ],
      "metadata": {
        "colab": {
          "base_uri": "https://localhost:8080/",
          "height": 869
        },
        "id": "2iRjFy4el9lN",
        "outputId": "e1e00fc5-ae26-4b73-b35c-b1de1b6aa3f5"
      },
      "execution_count": 51,
      "outputs": [
        {
          "output_type": "execute_result",
          "data": {
            "text/plain": [
              "        ID  PERIODO                     ESTU_PRGM_ACADEMICO  \\\n",
              "0   550236    20183                          TRABAJO SOCIAL   \n",
              "1    98545    20203  ADMINISTRACION COMERCIAL Y DE MERCADEO   \n",
              "2   499179    20212                  INGENIERIA MECATRONICA   \n",
              "3   782980    20195                      CONTADURIA PUBLICA   \n",
              "4   785185    20212              ADMINISTRACION DE EMPRESAS   \n",
              "5    58495    20183             ADMINISTRACION AGROPECUARIA   \n",
              "6   705444    20195                        INGENIERIA CIVIL   \n",
              "7   557548    20183                     INGENIERÍA MECÁNICA   \n",
              "8   519909    20195                  INGENIERÍA DE SISTEMAS   \n",
              "9   832058    20183                                ECONOMIA   \n",
              "10  500006    20183                   INGENIERIA INDUSTRIAL   \n",
              "11  533123    20203                                ECONOMIA   \n",
              "12   18369    20212                              PSICOLOGIA   \n",
              "13  554003    20183              ADMINISTRACION DE EMPRESAS   \n",
              "14  270523    20212                NEGOCIOS INTERNACIONALES   \n",
              "\n",
              "   ESTU_PRGM_DEPARTAMENTO            ESTU_VALORMATRICULAUNIVERSIDAD  \\\n",
              "0                 BOLIVAR                          Menos de 500 mil   \n",
              "1               ANTIOQUIA  Entre 2.5 millones y menos de 4 millones   \n",
              "2                  BOGOTÁ    Entre 1 millón y menos de 2.5 millones   \n",
              "3                   SUCRE    Entre 1 millón y menos de 2.5 millones   \n",
              "4               ATLANTICO  Entre 2.5 millones y menos de 4 millones   \n",
              "5                   VALLE         Entre 500 mil y menos de 1 millón   \n",
              "6               SANTANDER                          Menos de 500 mil   \n",
              "7                  BOGOTÁ                         Más de 7 millones   \n",
              "8               ATLANTICO    Entre 1 millón y menos de 2.5 millones   \n",
              "9                  BOGOTÁ         Entre 500 mil y menos de 1 millón   \n",
              "10              SANTANDER  Entre 4 millones y menos de 5.5 millones   \n",
              "11                 BOGOTÁ  Entre 2.5 millones y menos de 4 millones   \n",
              "12                 BOGOTÁ  Entre 5.5 millones y menos de 7 millones   \n",
              "13                 BOGOTÁ                         Más de 7 millones   \n",
              "14                 BOGOTÁ                         Más de 7 millones   \n",
              "\n",
              "   ESTU_HORASSEMANATRABAJA FAMI_ESTRATOVIVIENDA FAMI_TIENEINTERNET  \\\n",
              "0        Menos de 10 horas            Estrato 3                 Si   \n",
              "1      Entre 21 y 30 horas            Estrato 2                 Si   \n",
              "2                        0            Estrato 3                 Si   \n",
              "3      Entre 21 y 30 horas            Estrato 1                 No   \n",
              "4      Entre 11 y 20 horas            Estrato 2                 Si   \n",
              "5          Más de 30 horas            Estrato 1                 Si   \n",
              "6                        0            Estrato 3                 Si   \n",
              "7        Menos de 10 horas            Estrato 4                 Si   \n",
              "8      Entre 21 y 30 horas            Estrato 2                 No   \n",
              "9      Entre 21 y 30 horas            Estrato 2                 Si   \n",
              "10     Entre 11 y 20 horas            Estrato 2                 Si   \n",
              "11         Más de 30 horas            Estrato 2                 No   \n",
              "12                       0            Estrato 2                 Si   \n",
              "13         Más de 30 horas            Estrato 2                 Si   \n",
              "14         Más de 30 horas            Estrato 3                 Si   \n",
              "\n",
              "                     FAMI_EDUCACIONPADRE  \\\n",
              "0         Técnica o tecnológica completa   \n",
              "1     Secundaria (Bachillerato) completa   \n",
              "2   Secundaria (Bachillerato) incompleta   \n",
              "3                    Primaria incompleta   \n",
              "4     Secundaria (Bachillerato) completa   \n",
              "5                                Ninguno   \n",
              "6                      Primaria completa   \n",
              "7                              Postgrado   \n",
              "8     Secundaria (Bachillerato) completa   \n",
              "9         Técnica o tecnológica completa   \n",
              "10        Técnica o tecnológica completa   \n",
              "11                   Primaria incompleta   \n",
              "12                     Primaria completa   \n",
              "13                             No Aplica   \n",
              "14    Secundaria (Bachillerato) completa   \n",
              "\n",
              "                     FAMI_EDUCACIONMADRE ESTU_PAGOMATRICULAPROPIO  \n",
              "0                      Primaria completa                       Si  \n",
              "1         Técnica o tecnológica completa                       No  \n",
              "2     Secundaria (Bachillerato) completa                       No  \n",
              "3                    Primaria incompleta                       No  \n",
              "4     Secundaria (Bachillerato) completa                       No  \n",
              "5     Secundaria (Bachillerato) completa                       Si  \n",
              "6         Técnica o tecnológica completa                       No  \n",
              "7                              Postgrado                       No  \n",
              "8     Secundaria (Bachillerato) completa                       No  \n",
              "9   Secundaria (Bachillerato) incompleta                       No  \n",
              "10        Técnica o tecnológica completa                       No  \n",
              "11                     Primaria completa                       Si  \n",
              "12  Secundaria (Bachillerato) incompleta                       No  \n",
              "13                             No Aplica                       No  \n",
              "14        Técnica o tecnológica completa                       No  "
            ],
            "text/html": [
              "\n",
              "  <div id=\"df-82eecdb9-d86b-4f8d-862f-4d325378c1c5\" class=\"colab-df-container\">\n",
              "    <div>\n",
              "<style scoped>\n",
              "    .dataframe tbody tr th:only-of-type {\n",
              "        vertical-align: middle;\n",
              "    }\n",
              "\n",
              "    .dataframe tbody tr th {\n",
              "        vertical-align: top;\n",
              "    }\n",
              "\n",
              "    .dataframe thead th {\n",
              "        text-align: right;\n",
              "    }\n",
              "</style>\n",
              "<table border=\"1\" class=\"dataframe\">\n",
              "  <thead>\n",
              "    <tr style=\"text-align: right;\">\n",
              "      <th></th>\n",
              "      <th>ID</th>\n",
              "      <th>PERIODO</th>\n",
              "      <th>ESTU_PRGM_ACADEMICO</th>\n",
              "      <th>ESTU_PRGM_DEPARTAMENTO</th>\n",
              "      <th>ESTU_VALORMATRICULAUNIVERSIDAD</th>\n",
              "      <th>ESTU_HORASSEMANATRABAJA</th>\n",
              "      <th>FAMI_ESTRATOVIVIENDA</th>\n",
              "      <th>FAMI_TIENEINTERNET</th>\n",
              "      <th>FAMI_EDUCACIONPADRE</th>\n",
              "      <th>FAMI_EDUCACIONMADRE</th>\n",
              "      <th>ESTU_PAGOMATRICULAPROPIO</th>\n",
              "    </tr>\n",
              "  </thead>\n",
              "  <tbody>\n",
              "    <tr>\n",
              "      <th>0</th>\n",
              "      <td>550236</td>\n",
              "      <td>20183</td>\n",
              "      <td>TRABAJO SOCIAL</td>\n",
              "      <td>BOLIVAR</td>\n",
              "      <td>Menos de 500 mil</td>\n",
              "      <td>Menos de 10 horas</td>\n",
              "      <td>Estrato 3</td>\n",
              "      <td>Si</td>\n",
              "      <td>Técnica o tecnológica completa</td>\n",
              "      <td>Primaria completa</td>\n",
              "      <td>Si</td>\n",
              "    </tr>\n",
              "    <tr>\n",
              "      <th>1</th>\n",
              "      <td>98545</td>\n",
              "      <td>20203</td>\n",
              "      <td>ADMINISTRACION COMERCIAL Y DE MERCADEO</td>\n",
              "      <td>ANTIOQUIA</td>\n",
              "      <td>Entre 2.5 millones y menos de 4 millones</td>\n",
              "      <td>Entre 21 y 30 horas</td>\n",
              "      <td>Estrato 2</td>\n",
              "      <td>Si</td>\n",
              "      <td>Secundaria (Bachillerato) completa</td>\n",
              "      <td>Técnica o tecnológica completa</td>\n",
              "      <td>No</td>\n",
              "    </tr>\n",
              "    <tr>\n",
              "      <th>2</th>\n",
              "      <td>499179</td>\n",
              "      <td>20212</td>\n",
              "      <td>INGENIERIA MECATRONICA</td>\n",
              "      <td>BOGOTÁ</td>\n",
              "      <td>Entre 1 millón y menos de 2.5 millones</td>\n",
              "      <td>0</td>\n",
              "      <td>Estrato 3</td>\n",
              "      <td>Si</td>\n",
              "      <td>Secundaria (Bachillerato) incompleta</td>\n",
              "      <td>Secundaria (Bachillerato) completa</td>\n",
              "      <td>No</td>\n",
              "    </tr>\n",
              "    <tr>\n",
              "      <th>3</th>\n",
              "      <td>782980</td>\n",
              "      <td>20195</td>\n",
              "      <td>CONTADURIA PUBLICA</td>\n",
              "      <td>SUCRE</td>\n",
              "      <td>Entre 1 millón y menos de 2.5 millones</td>\n",
              "      <td>Entre 21 y 30 horas</td>\n",
              "      <td>Estrato 1</td>\n",
              "      <td>No</td>\n",
              "      <td>Primaria incompleta</td>\n",
              "      <td>Primaria incompleta</td>\n",
              "      <td>No</td>\n",
              "    </tr>\n",
              "    <tr>\n",
              "      <th>4</th>\n",
              "      <td>785185</td>\n",
              "      <td>20212</td>\n",
              "      <td>ADMINISTRACION DE EMPRESAS</td>\n",
              "      <td>ATLANTICO</td>\n",
              "      <td>Entre 2.5 millones y menos de 4 millones</td>\n",
              "      <td>Entre 11 y 20 horas</td>\n",
              "      <td>Estrato 2</td>\n",
              "      <td>Si</td>\n",
              "      <td>Secundaria (Bachillerato) completa</td>\n",
              "      <td>Secundaria (Bachillerato) completa</td>\n",
              "      <td>No</td>\n",
              "    </tr>\n",
              "    <tr>\n",
              "      <th>5</th>\n",
              "      <td>58495</td>\n",
              "      <td>20183</td>\n",
              "      <td>ADMINISTRACION AGROPECUARIA</td>\n",
              "      <td>VALLE</td>\n",
              "      <td>Entre 500 mil y menos de 1 millón</td>\n",
              "      <td>Más de 30 horas</td>\n",
              "      <td>Estrato 1</td>\n",
              "      <td>Si</td>\n",
              "      <td>Ninguno</td>\n",
              "      <td>Secundaria (Bachillerato) completa</td>\n",
              "      <td>Si</td>\n",
              "    </tr>\n",
              "    <tr>\n",
              "      <th>6</th>\n",
              "      <td>705444</td>\n",
              "      <td>20195</td>\n",
              "      <td>INGENIERIA CIVIL</td>\n",
              "      <td>SANTANDER</td>\n",
              "      <td>Menos de 500 mil</td>\n",
              "      <td>0</td>\n",
              "      <td>Estrato 3</td>\n",
              "      <td>Si</td>\n",
              "      <td>Primaria completa</td>\n",
              "      <td>Técnica o tecnológica completa</td>\n",
              "      <td>No</td>\n",
              "    </tr>\n",
              "    <tr>\n",
              "      <th>7</th>\n",
              "      <td>557548</td>\n",
              "      <td>20183</td>\n",
              "      <td>INGENIERÍA MECÁNICA</td>\n",
              "      <td>BOGOTÁ</td>\n",
              "      <td>Más de 7 millones</td>\n",
              "      <td>Menos de 10 horas</td>\n",
              "      <td>Estrato 4</td>\n",
              "      <td>Si</td>\n",
              "      <td>Postgrado</td>\n",
              "      <td>Postgrado</td>\n",
              "      <td>No</td>\n",
              "    </tr>\n",
              "    <tr>\n",
              "      <th>8</th>\n",
              "      <td>519909</td>\n",
              "      <td>20195</td>\n",
              "      <td>INGENIERÍA DE SISTEMAS</td>\n",
              "      <td>ATLANTICO</td>\n",
              "      <td>Entre 1 millón y menos de 2.5 millones</td>\n",
              "      <td>Entre 21 y 30 horas</td>\n",
              "      <td>Estrato 2</td>\n",
              "      <td>No</td>\n",
              "      <td>Secundaria (Bachillerato) completa</td>\n",
              "      <td>Secundaria (Bachillerato) completa</td>\n",
              "      <td>No</td>\n",
              "    </tr>\n",
              "    <tr>\n",
              "      <th>9</th>\n",
              "      <td>832058</td>\n",
              "      <td>20183</td>\n",
              "      <td>ECONOMIA</td>\n",
              "      <td>BOGOTÁ</td>\n",
              "      <td>Entre 500 mil y menos de 1 millón</td>\n",
              "      <td>Entre 21 y 30 horas</td>\n",
              "      <td>Estrato 2</td>\n",
              "      <td>Si</td>\n",
              "      <td>Técnica o tecnológica completa</td>\n",
              "      <td>Secundaria (Bachillerato) incompleta</td>\n",
              "      <td>No</td>\n",
              "    </tr>\n",
              "    <tr>\n",
              "      <th>10</th>\n",
              "      <td>500006</td>\n",
              "      <td>20183</td>\n",
              "      <td>INGENIERIA INDUSTRIAL</td>\n",
              "      <td>SANTANDER</td>\n",
              "      <td>Entre 4 millones y menos de 5.5 millones</td>\n",
              "      <td>Entre 11 y 20 horas</td>\n",
              "      <td>Estrato 2</td>\n",
              "      <td>Si</td>\n",
              "      <td>Técnica o tecnológica completa</td>\n",
              "      <td>Técnica o tecnológica completa</td>\n",
              "      <td>No</td>\n",
              "    </tr>\n",
              "    <tr>\n",
              "      <th>11</th>\n",
              "      <td>533123</td>\n",
              "      <td>20203</td>\n",
              "      <td>ECONOMIA</td>\n",
              "      <td>BOGOTÁ</td>\n",
              "      <td>Entre 2.5 millones y menos de 4 millones</td>\n",
              "      <td>Más de 30 horas</td>\n",
              "      <td>Estrato 2</td>\n",
              "      <td>No</td>\n",
              "      <td>Primaria incompleta</td>\n",
              "      <td>Primaria completa</td>\n",
              "      <td>Si</td>\n",
              "    </tr>\n",
              "    <tr>\n",
              "      <th>12</th>\n",
              "      <td>18369</td>\n",
              "      <td>20212</td>\n",
              "      <td>PSICOLOGIA</td>\n",
              "      <td>BOGOTÁ</td>\n",
              "      <td>Entre 5.5 millones y menos de 7 millones</td>\n",
              "      <td>0</td>\n",
              "      <td>Estrato 2</td>\n",
              "      <td>Si</td>\n",
              "      <td>Primaria completa</td>\n",
              "      <td>Secundaria (Bachillerato) incompleta</td>\n",
              "      <td>No</td>\n",
              "    </tr>\n",
              "    <tr>\n",
              "      <th>13</th>\n",
              "      <td>554003</td>\n",
              "      <td>20183</td>\n",
              "      <td>ADMINISTRACION DE EMPRESAS</td>\n",
              "      <td>BOGOTÁ</td>\n",
              "      <td>Más de 7 millones</td>\n",
              "      <td>Más de 30 horas</td>\n",
              "      <td>Estrato 2</td>\n",
              "      <td>Si</td>\n",
              "      <td>No Aplica</td>\n",
              "      <td>No Aplica</td>\n",
              "      <td>No</td>\n",
              "    </tr>\n",
              "    <tr>\n",
              "      <th>14</th>\n",
              "      <td>270523</td>\n",
              "      <td>20212</td>\n",
              "      <td>NEGOCIOS INTERNACIONALES</td>\n",
              "      <td>BOGOTÁ</td>\n",
              "      <td>Más de 7 millones</td>\n",
              "      <td>Más de 30 horas</td>\n",
              "      <td>Estrato 3</td>\n",
              "      <td>Si</td>\n",
              "      <td>Secundaria (Bachillerato) completa</td>\n",
              "      <td>Técnica o tecnológica completa</td>\n",
              "      <td>No</td>\n",
              "    </tr>\n",
              "  </tbody>\n",
              "</table>\n",
              "</div>\n",
              "    <div class=\"colab-df-buttons\">\n",
              "\n",
              "  <div class=\"colab-df-container\">\n",
              "    <button class=\"colab-df-convert\" onclick=\"convertToInteractive('df-82eecdb9-d86b-4f8d-862f-4d325378c1c5')\"\n",
              "            title=\"Convert this dataframe to an interactive table.\"\n",
              "            style=\"display:none;\">\n",
              "\n",
              "  <svg xmlns=\"http://www.w3.org/2000/svg\" height=\"24px\" viewBox=\"0 -960 960 960\">\n",
              "    <path d=\"M120-120v-720h720v720H120Zm60-500h600v-160H180v160Zm220 220h160v-160H400v160Zm0 220h160v-160H400v160ZM180-400h160v-160H180v160Zm440 0h160v-160H620v160ZM180-180h160v-160H180v160Zm440 0h160v-160H620v160Z\"/>\n",
              "  </svg>\n",
              "    </button>\n",
              "\n",
              "  <style>\n",
              "    .colab-df-container {\n",
              "      display:flex;\n",
              "      gap: 12px;\n",
              "    }\n",
              "\n",
              "    .colab-df-convert {\n",
              "      background-color: #E8F0FE;\n",
              "      border: none;\n",
              "      border-radius: 50%;\n",
              "      cursor: pointer;\n",
              "      display: none;\n",
              "      fill: #1967D2;\n",
              "      height: 32px;\n",
              "      padding: 0 0 0 0;\n",
              "      width: 32px;\n",
              "    }\n",
              "\n",
              "    .colab-df-convert:hover {\n",
              "      background-color: #E2EBFA;\n",
              "      box-shadow: 0px 1px 2px rgba(60, 64, 67, 0.3), 0px 1px 3px 1px rgba(60, 64, 67, 0.15);\n",
              "      fill: #174EA6;\n",
              "    }\n",
              "\n",
              "    .colab-df-buttons div {\n",
              "      margin-bottom: 4px;\n",
              "    }\n",
              "\n",
              "    [theme=dark] .colab-df-convert {\n",
              "      background-color: #3B4455;\n",
              "      fill: #D2E3FC;\n",
              "    }\n",
              "\n",
              "    [theme=dark] .colab-df-convert:hover {\n",
              "      background-color: #434B5C;\n",
              "      box-shadow: 0px 1px 3px 1px rgba(0, 0, 0, 0.15);\n",
              "      filter: drop-shadow(0px 1px 2px rgba(0, 0, 0, 0.3));\n",
              "      fill: #FFFFFF;\n",
              "    }\n",
              "  </style>\n",
              "\n",
              "    <script>\n",
              "      const buttonEl =\n",
              "        document.querySelector('#df-82eecdb9-d86b-4f8d-862f-4d325378c1c5 button.colab-df-convert');\n",
              "      buttonEl.style.display =\n",
              "        google.colab.kernel.accessAllowed ? 'block' : 'none';\n",
              "\n",
              "      async function convertToInteractive(key) {\n",
              "        const element = document.querySelector('#df-82eecdb9-d86b-4f8d-862f-4d325378c1c5');\n",
              "        const dataTable =\n",
              "          await google.colab.kernel.invokeFunction('convertToInteractive',\n",
              "                                                    [key], {});\n",
              "        if (!dataTable) return;\n",
              "\n",
              "        const docLinkHtml = 'Like what you see? Visit the ' +\n",
              "          '<a target=\"_blank\" href=https://colab.research.google.com/notebooks/data_table.ipynb>data table notebook</a>'\n",
              "          + ' to learn more about interactive tables.';\n",
              "        element.innerHTML = '';\n",
              "        dataTable['output_type'] = 'display_data';\n",
              "        await google.colab.output.renderOutput(dataTable, element);\n",
              "        const docLink = document.createElement('div');\n",
              "        docLink.innerHTML = docLinkHtml;\n",
              "        element.appendChild(docLink);\n",
              "      }\n",
              "    </script>\n",
              "  </div>\n",
              "\n",
              "\n",
              "<div id=\"df-723f270e-c7f4-4504-9417-e87a150d3a9c\">\n",
              "  <button class=\"colab-df-quickchart\" onclick=\"quickchart('df-723f270e-c7f4-4504-9417-e87a150d3a9c')\"\n",
              "            title=\"Suggest charts\"\n",
              "            style=\"display:none;\">\n",
              "\n",
              "<svg xmlns=\"http://www.w3.org/2000/svg\" height=\"24px\"viewBox=\"0 0 24 24\"\n",
              "     width=\"24px\">\n",
              "    <g>\n",
              "        <path d=\"M19 3H5c-1.1 0-2 .9-2 2v14c0 1.1.9 2 2 2h14c1.1 0 2-.9 2-2V5c0-1.1-.9-2-2-2zM9 17H7v-7h2v7zm4 0h-2V7h2v10zm4 0h-2v-4h2v4z\"/>\n",
              "    </g>\n",
              "</svg>\n",
              "  </button>\n",
              "\n",
              "<style>\n",
              "  .colab-df-quickchart {\n",
              "      --bg-color: #E8F0FE;\n",
              "      --fill-color: #1967D2;\n",
              "      --hover-bg-color: #E2EBFA;\n",
              "      --hover-fill-color: #174EA6;\n",
              "      --disabled-fill-color: #AAA;\n",
              "      --disabled-bg-color: #DDD;\n",
              "  }\n",
              "\n",
              "  [theme=dark] .colab-df-quickchart {\n",
              "      --bg-color: #3B4455;\n",
              "      --fill-color: #D2E3FC;\n",
              "      --hover-bg-color: #434B5C;\n",
              "      --hover-fill-color: #FFFFFF;\n",
              "      --disabled-bg-color: #3B4455;\n",
              "      --disabled-fill-color: #666;\n",
              "  }\n",
              "\n",
              "  .colab-df-quickchart {\n",
              "    background-color: var(--bg-color);\n",
              "    border: none;\n",
              "    border-radius: 50%;\n",
              "    cursor: pointer;\n",
              "    display: none;\n",
              "    fill: var(--fill-color);\n",
              "    height: 32px;\n",
              "    padding: 0;\n",
              "    width: 32px;\n",
              "  }\n",
              "\n",
              "  .colab-df-quickchart:hover {\n",
              "    background-color: var(--hover-bg-color);\n",
              "    box-shadow: 0 1px 2px rgba(60, 64, 67, 0.3), 0 1px 3px 1px rgba(60, 64, 67, 0.15);\n",
              "    fill: var(--button-hover-fill-color);\n",
              "  }\n",
              "\n",
              "  .colab-df-quickchart-complete:disabled,\n",
              "  .colab-df-quickchart-complete:disabled:hover {\n",
              "    background-color: var(--disabled-bg-color);\n",
              "    fill: var(--disabled-fill-color);\n",
              "    box-shadow: none;\n",
              "  }\n",
              "\n",
              "  .colab-df-spinner {\n",
              "    border: 2px solid var(--fill-color);\n",
              "    border-color: transparent;\n",
              "    border-bottom-color: var(--fill-color);\n",
              "    animation:\n",
              "      spin 1s steps(1) infinite;\n",
              "  }\n",
              "\n",
              "  @keyframes spin {\n",
              "    0% {\n",
              "      border-color: transparent;\n",
              "      border-bottom-color: var(--fill-color);\n",
              "      border-left-color: var(--fill-color);\n",
              "    }\n",
              "    20% {\n",
              "      border-color: transparent;\n",
              "      border-left-color: var(--fill-color);\n",
              "      border-top-color: var(--fill-color);\n",
              "    }\n",
              "    30% {\n",
              "      border-color: transparent;\n",
              "      border-left-color: var(--fill-color);\n",
              "      border-top-color: var(--fill-color);\n",
              "      border-right-color: var(--fill-color);\n",
              "    }\n",
              "    40% {\n",
              "      border-color: transparent;\n",
              "      border-right-color: var(--fill-color);\n",
              "      border-top-color: var(--fill-color);\n",
              "    }\n",
              "    60% {\n",
              "      border-color: transparent;\n",
              "      border-right-color: var(--fill-color);\n",
              "    }\n",
              "    80% {\n",
              "      border-color: transparent;\n",
              "      border-right-color: var(--fill-color);\n",
              "      border-bottom-color: var(--fill-color);\n",
              "    }\n",
              "    90% {\n",
              "      border-color: transparent;\n",
              "      border-bottom-color: var(--fill-color);\n",
              "    }\n",
              "  }\n",
              "</style>\n",
              "\n",
              "  <script>\n",
              "    async function quickchart(key) {\n",
              "      const quickchartButtonEl =\n",
              "        document.querySelector('#' + key + ' button');\n",
              "      quickchartButtonEl.disabled = true;  // To prevent multiple clicks.\n",
              "      quickchartButtonEl.classList.add('colab-df-spinner');\n",
              "      try {\n",
              "        const charts = await google.colab.kernel.invokeFunction(\n",
              "            'suggestCharts', [key], {});\n",
              "      } catch (error) {\n",
              "        console.error('Error during call to suggestCharts:', error);\n",
              "      }\n",
              "      quickchartButtonEl.classList.remove('colab-df-spinner');\n",
              "      quickchartButtonEl.classList.add('colab-df-quickchart-complete');\n",
              "    }\n",
              "    (() => {\n",
              "      let quickchartButtonEl =\n",
              "        document.querySelector('#df-723f270e-c7f4-4504-9417-e87a150d3a9c button');\n",
              "      quickchartButtonEl.style.display =\n",
              "        google.colab.kernel.accessAllowed ? 'block' : 'none';\n",
              "    })();\n",
              "  </script>\n",
              "</div>\n",
              "\n",
              "    </div>\n",
              "  </div>\n"
            ],
            "application/vnd.google.colaboratory.intrinsic+json": {
              "type": "dataframe",
              "variable_name": "df2"
            }
          },
          "metadata": {},
          "execution_count": 51
        }
      ]
    },
    {
      "cell_type": "markdown",
      "source": [
        "#Entrenamiento del Modelo CatBoost\n"
      ],
      "metadata": {
        "id": "O4LUsGSQKoIT"
      }
    },
    {
      "cell_type": "code",
      "source": [
        "#Division de los datos\n",
        "X_train = df.drop('RENDIMIENTO_GLOBAL', axis=1)\n",
        "y_train = df['RENDIMIENTO_GLOBAL']"
      ],
      "metadata": {
        "id": "E6sulwP9LsV8"
      },
      "execution_count": 52,
      "outputs": []
    },
    {
      "cell_type": "code",
      "source": [
        "#Tarda más de 1 hora\n",
        "model = CatBoostClassifier()\n",
        "\n",
        "param_grid = {\n",
        "    'iterations': [500, 800],\n",
        "    'learning_rate': [0.01, 0.1],\n",
        "    'depth': [4, 6, 8],\n",
        "    'l2_leaf_reg': [1, 3, 5]\n",
        "}\n",
        "\n",
        "grid_search = GridSearchCV(estimator=model, param_grid=param_grid, scoring='accuracy', cv=5, n_jobs=-1)\n",
        "grid_search.fit(X_train, y_train)"
      ],
      "metadata": {
        "id": "eUqv_iyWJXTd"
      },
      "execution_count": null,
      "outputs": []
    },
    {
      "cell_type": "code",
      "source": [
        "cv_results = grid_search.cv_results_\n",
        "for mean_score, std, params in zip(cv_results[\"mean_test_score\"], cv_results[\"std_test_score\"], cv_results[\"params\"]):\n",
        "    print(f\"Precisión: {mean_score:.4f}, Desviación: {std:.4f} para los parámetros {params}\" )"
      ],
      "metadata": {
        "id": "lL8YQKjN92DX"
      },
      "execution_count": null,
      "outputs": []
    },
    {
      "cell_type": "code",
      "source": [
        "#Entrenamiento del mejor modelo a ojo del desarrollador:\n",
        "#(Mejor accuracy y varianza, a su vez que menos complejidad para que así sea más rapido el modelo)\n",
        "\n",
        "categorical_features = ['PERIODO', 'ESTU_PRGM_ACADEMICO', 'ESTU_PRGM_DEPARTAMENTO',\n",
        "                        'ESTU_VALORMATRICULAUNIVERSIDAD', 'ESTU_HORASSEMANATRABAJA',\n",
        "                        'FAMI_ESTRATOVIVIENDA', 'FAMI_TIENEINTERNET',\n",
        "                        'FAMI_EDUCACIONPADRE', 'FAMI_EDUCACIONMADRE',\n",
        "                        'ESTU_PAGOMATRICULAPROPIO']\n",
        "\n",
        "train_pool = Pool(X_train, y_train, cat_features=categorical_features)\n",
        "\n",
        "model = CatBoostClassifier(iterations=800,\n",
        "                           learning_rate=0.1,\n",
        "                           depth=5,\n",
        "                           cat_features=categorical_features,\n",
        "                           l2_leaf_reg=5,\n",
        "                           verbose=100)\n",
        "model.fit(train_pool)"
      ],
      "metadata": {
        "id": "d4P718t_KwdY",
        "colab": {
          "base_uri": "https://localhost:8080/"
        },
        "outputId": "8cbf047a-1221-4a2c-bac3-0224963ac4a8"
      },
      "execution_count": 53,
      "outputs": [
        {
          "output_type": "stream",
          "name": "stdout",
          "text": [
            "0:\tlearn: 1.3634702\ttotal: 357ms\tremaining: 4m 45s\n",
            "100:\tlearn: 1.1921624\ttotal: 30.6s\tremaining: 3m 32s\n",
            "200:\tlearn: 1.1855617\ttotal: 58.8s\tremaining: 2m 55s\n",
            "300:\tlearn: 1.1831479\ttotal: 1m 28s\tremaining: 2m 27s\n",
            "400:\tlearn: 1.1817594\ttotal: 1m 59s\tremaining: 1m 58s\n",
            "500:\tlearn: 1.1807147\ttotal: 2m 30s\tremaining: 1m 29s\n",
            "600:\tlearn: 1.1798482\ttotal: 3m 1s\tremaining: 1m\n",
            "700:\tlearn: 1.1790089\ttotal: 3m 32s\tremaining: 30.1s\n",
            "799:\tlearn: 1.1782018\ttotal: 4m 4s\tremaining: 0us\n"
          ]
        },
        {
          "output_type": "execute_result",
          "data": {
            "text/plain": [
              "<catboost.core.CatBoostClassifier at 0x7a2a2099ae90>"
            ]
          },
          "metadata": {},
          "execution_count": 53
        }
      ]
    },
    {
      "cell_type": "code",
      "source": [
        "# Hacer predicciones\n",
        "y_pred = model.predict(X_train)\n",
        "\n",
        "# Evaluar el modelo con datos train\n",
        "accuracy = accuracy_score(y_train, y_pred)\n",
        "print(f'Accuracy: {accuracy:.4f}')\n",
        "print(classification_report(y_train, y_pred))"
      ],
      "metadata": {
        "id": "jSEglE2yM_gS",
        "colab": {
          "base_uri": "https://localhost:8080/"
        },
        "outputId": "185223c1-127d-4782-fe23-d289aff8031a"
      },
      "execution_count": 58,
      "outputs": [
        {
          "output_type": "stream",
          "name": "stdout",
          "text": [
            "Accuracy: 0.4560\n",
            "              precision    recall  f1-score   support\n",
            "\n",
            "        alto       0.59      0.63      0.61    175619\n",
            "        bajo       0.48      0.59      0.53    172987\n",
            "  medio-alto       0.35      0.32      0.33    171619\n",
            "  medio-bajo       0.35      0.28      0.31    172275\n",
            "\n",
            "    accuracy                           0.46    692500\n",
            "   macro avg       0.44      0.45      0.45    692500\n",
            "weighted avg       0.44      0.46      0.45    692500\n",
            "\n"
          ]
        }
      ]
    },
    {
      "cell_type": "markdown",
      "source": [
        "##Aplicar el modelo a los datos test"
      ],
      "metadata": {
        "id": "tVeBbifLtkzy"
      }
    },
    {
      "cell_type": "code",
      "source": [
        "y_pred = model.predict(df2)\n",
        "\n",
        "# Agregar la variable que se predijo a los datos\n",
        "df2['RENDIMIENTO_GLOBAL'] = y_pred.ravel()"
      ],
      "metadata": {
        "id": "DflS1n6SZDw6"
      },
      "execution_count": 55,
      "outputs": []
    },
    {
      "cell_type": "code",
      "source": [
        "#Preparar envio\n",
        "predictions_df = df2[['ID', 'RENDIMIENTO_GLOBAL']]\n",
        "\n",
        "# Guardar DataFrame\n",
        "predictions_df.to_csv('submission.csv', index=False)"
      ],
      "metadata": {
        "id": "7r1JzGF-u22B"
      },
      "execution_count": 56,
      "outputs": []
    },
    {
      "cell_type": "code",
      "source": [],
      "metadata": {
        "id": "CXYgdFOVNEHD"
      },
      "execution_count": null,
      "outputs": []
    }
  ]
}